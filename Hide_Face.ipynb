{
  "nbformat": 4,
  "nbformat_minor": 0,
  "metadata": {
    "colab": {
      "provenance": []
    },
    "kernelspec": {
      "name": "python3",
      "display_name": "Python 3"
    },
    "language_info": {
      "name": "python"
    }
  },
  "cells": [
    {
      "cell_type": "code",
      "execution_count": 1,
      "metadata": {
        "cellView": "form",
        "id": "DZu6Glkblq-v"
      },
      "outputs": [],
      "source": [
        "#@title Install\n",
        "%cd /content/\n",
        "!git clone https://github.com/NeuralFalconYT/Hide-Face-From-Video.git\n",
        "%cd ./Hide-Face-From-Video\n",
        "!pip install -r requirements.txt\n",
        "from IPython.display import clear_output\n",
        "clear_output()\n"
      ]
    },
    {
      "cell_type": "code",
      "source": [
        "#@title Run App\n",
        "%cd /content/Hide-Face-From-Video\n",
        "!python app.py --share"
      ],
      "metadata": {
        "id": "ZCovRZ7HmAdU"
      },
      "execution_count": null,
      "outputs": []
    }
  ]
}